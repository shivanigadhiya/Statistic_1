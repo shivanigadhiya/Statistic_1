{
 "cells": [
  {
   "cell_type": "markdown",
   "id": "b2089739-6cb3-4a09-9fe3-660926715fd2",
   "metadata": {},
   "source": [
    "Q1. What is Statistics?"
   ]
  },
  {
   "cell_type": "markdown",
   "id": "0f0b3c7b-f4c5-4c14-80dd-31f5fb1d87dd",
   "metadata": {},
   "source": [
    "It is the science of collecting, organizing and analyzing data."
   ]
  },
  {
   "cell_type": "markdown",
   "id": "81b61ee3-ac08-47a9-8474-ec9fea728a0b",
   "metadata": {},
   "source": [
    "Q2. Define the different types of statistics and give an example of when each type might be used."
   ]
  },
  {
   "cell_type": "markdown",
   "id": "f468b3e7-4e35-443b-a898-d5b54c17e64a",
   "metadata": {},
   "source": [
    "1.Descriptive statistics: It consists organizing and summarizinng data.\n",
    "example: Measure of central Tendency(mean.median,mode),Measure of dispersion(variance,std)\n",
    "Different types of distribution of data."
   ]
  },
  {
   "cell_type": "markdown",
   "id": "aca34321-2d91-4850-8eaf-8c1ae9a55635",
   "metadata": {},
   "source": [
    "inferential Statastics: It consists of using data you have measured to form conclusion.\n",
    "Exam: z-test , t-test , chi square "
   ]
  },
  {
   "cell_type": "markdown",
   "id": "648d2a07-df83-4a03-a4e0-38527f2f9d42",
   "metadata": {},
   "source": [
    "Example: there are 20 classes at your collage and you have collected the heights of students in the class:175,180,123,145,170,137.\n",
    "\n",
    "Descriptive question : what is the average height of the entire classes.\n",
    "\n",
    "Inferential question : Are the height of the students in the classroom is similar to what you expect in the entire college."
   ]
  },
  {
   "cell_type": "markdown",
   "id": "5f72188e-ea9e-44a3-aa0c-13e716a58996",
   "metadata": {},
   "source": [
    "Q3. What are the different types of data and how do they differ from each other? Provide an example of\n",
    "each type of data."
   ]
  },
  {
   "cell_type": "markdown",
   "id": "dedf8bb0-05b6-4b43-b928-b7c533428dd7",
   "metadata": {},
   "source": [
    "There are two types of data: 1.Quantitave data and 2.Qualitative data"
   ]
  },
  {
   "cell_type": "markdown",
   "id": "06042d91-84be-4fa9-a7e9-5e83a4ddb44b",
   "metadata": {},
   "source": [
    "1.Quantitative data type has two types : Discrite data and Continuous data\n",
    "\n",
    "2.Qualitative data types has two types : Normal data and ordinal data"
   ]
  },
  {
   "cell_type": "markdown",
   "id": "9bc71204-ed84-40e5-8840-c5e21f9b5cf8",
   "metadata": {},
   "source": [
    "Quantitative data represents numerical variable and Qualitative data represents categorical data"
   ]
  },
  {
   "cell_type": "markdown",
   "id": "0e74b670-7d83-4f0e-8093-dffbeb212e58",
   "metadata": {},
   "source": [
    "Q4. Categorise the following datasets with respect to quantitative and qualitative data types:\n",
    "(i) Grading in exam: A+, A, B+, B, C+, C, D, E\n",
    "(ii) Colour of mangoes: yellow, green, orange, red\n",
    "(iii) Height data of a class: [178.9, 179, 179.5, 176, 177.2, 178.3, 175.8,...]\n",
    "(iv) Number of mangoes exported by a farm: [500, 600, 478, 672, ...]"
   ]
  },
  {
   "cell_type": "markdown",
   "id": "f12456f0-2cf4-4c6e-99f5-db37452fb547",
   "metadata": {},
   "source": [
    "i) ordinal ii) Nominal iii) continuous iv) Discrete"
   ]
  },
  {
   "cell_type": "markdown",
   "id": "cd09c3cd-793f-44f5-8673-52e52311e7b8",
   "metadata": {},
   "source": [
    "Q5. Explain the concept of levels of measurement and give an example of a variable for each level."
   ]
  },
  {
   "cell_type": "markdown",
   "id": "7119632a-6978-4aeb-8a94-1ec23ae4d093",
   "metadata": {},
   "source": [
    "There are four types of variable : Discrete , continuous , Nominal , Ordinal"
   ]
  },
  {
   "cell_type": "markdown",
   "id": "e01b2a3e-273e-4131-9606-d80d408dcfb3",
   "metadata": {},
   "source": [
    "Discrete : It consists who;e number like Bank Account"
   ]
  },
  {
   "cell_type": "markdown",
   "id": "92f77d99-5251-4c2b-a303-db32264f6701",
   "metadata": {},
   "source": [
    "continuous : It consists any value like weight,height "
   ]
  },
  {
   "cell_type": "markdown",
   "id": "1d84163a-3380-4286-ac57-fe597ab13b15",
   "metadata": {},
   "source": [
    "Nominal : It represents groups but we can decide the rank of them. exa: Blood group , Pincode "
   ]
  },
  {
   "cell_type": "markdown",
   "id": "b71c2302-c40b-403b-906b-0db5cfb4a86f",
   "metadata": {},
   "source": [
    "Ordinal : It represents groups but we can decide the rank of them. exa. customer feedback (good,bad,average)"
   ]
  },
  {
   "cell_type": "markdown",
   "id": "c73310f2-eebf-4b2e-8219-c3f306c8e936",
   "metadata": {},
   "source": [
    "Q6. Why is it important to understand the level of measurement when analyzing data? Provide an\n",
    "example to illustrate your answer."
   ]
  },
  {
   "cell_type": "markdown",
   "id": "e11833d3-4d64-413f-8197-7d1c26d702a9",
   "metadata": {},
   "source": [
    "The level at which you measure a variable determines how you can analyze your data. Depending on the level of measurement, you can perform different descriptive statistics to get an overall summary of your data and inferential statistics to see if your results support or refute your hypothesis."
   ]
  },
  {
   "cell_type": "markdown",
   "id": "c5f076d1-8b89-4c4f-9bd3-3f50aefe649a",
   "metadata": {},
   "source": [
    "Exa : When measuring the temperature, the difference between 85 degrees and 90 degrees is the same as the difference between 65 degrees and 70 degrees."
   ]
  },
  {
   "cell_type": "markdown",
   "id": "aede0f43-03fd-48a7-a11a-b32bdc132068",
   "metadata": {},
   "source": [
    "Q7. How nominal data type is different from ordinal data type."
   ]
  },
  {
   "cell_type": "markdown",
   "id": "80b4ae58-aca6-4d9e-b005-130df25b75ad",
   "metadata": {},
   "source": [
    "Nominal represents groups but we can decide the rank of them. exa: Blood group , Pincode\n",
    "but Ordinal represents  groups but we can decide the rank of them. exa. customer feedback (good,bad,average)"
   ]
  },
  {
   "cell_type": "markdown",
   "id": "be9d5903-ed2e-4306-b242-2898f179db89",
   "metadata": {},
   "source": [
    "Q8. Which type of plot can be used to display data in terms of range?"
   ]
  },
  {
   "cell_type": "markdown",
   "id": "1abaf28a-e90c-48a8-b487-20cc8cc77d6b",
   "metadata": {},
   "source": [
    "A range plot sometimes looks like a bar chart. The difference is that a range plot shows two values of a category"
   ]
  },
  {
   "cell_type": "markdown",
   "id": "f43b720c-5a27-4d22-a8d3-a8957f2d5da5",
   "metadata": {},
   "source": [
    "A range plot shows two points with a connecting line between them. This line indicates the difference, or a gap, between these points and suggests a direction of such change."
   ]
  },
  {
   "cell_type": "markdown",
   "id": "a1a41bd6-db07-49a0-8a02-4f920dcad2f6",
   "metadata": {},
   "source": [
    "Q9. Describe the difference between descriptive and inferential statistics. Give an example of each\n",
    "type of statistics and explain how they are used."
   ]
  },
  {
   "cell_type": "markdown",
   "id": "cfdb6fca-94d9-4a0f-9f9e-5ebba9b33335",
   "metadata": {},
   "source": [
    "Descriptive statistics : It consists of organizing and summarizing data. Exa: Measure of central Tendency(mean.median,mode),Measure of dispersion(variance,std) Different types of distribution of data"
   ]
  },
  {
   "cell_type": "markdown",
   "id": "6bc4d866-1269-40d3-a3d9-4613bf76a1e2",
   "metadata": {},
   "source": [
    "inferential statistics : It consists of using data you have measured to form conclusion. Exam: z-test , t-test , chi square"
   ]
  },
  {
   "cell_type": "markdown",
   "id": "53f566b9-cb8d-40a4-a9b2-309ecb75e90c",
   "metadata": {},
   "source": [
    "Q10. What are some common measures of central tendency and variability used in statistics? Explain\n",
    "how each measure can be used to describe a dataset."
   ]
  },
  {
   "cell_type": "markdown",
   "id": "34b16118-bc5b-4bf4-8346-9aab7acb927d",
   "metadata": {},
   "source": [
    "In statistics, measures of central tendency and variability are essential for summarizing and understanding data. They provide insights into the typical or average value of a dataset (central tendency) and the spread or dispersion of the data points (variability). Here are some common measures of central tendency and variability"
   ]
  },
  {
   "cell_type": "code",
   "execution_count": null,
   "id": "8febf635-8380-412c-8744-2b6bed70faaa",
   "metadata": {},
   "outputs": [],
   "source": []
  }
 ],
 "metadata": {
  "kernelspec": {
   "display_name": "Python 3 (ipykernel)",
   "language": "python",
   "name": "python3"
  },
  "language_info": {
   "codemirror_mode": {
    "name": "ipython",
    "version": 3
   },
   "file_extension": ".py",
   "mimetype": "text/x-python",
   "name": "python",
   "nbconvert_exporter": "python",
   "pygments_lexer": "ipython3",
   "version": "3.10.8"
  }
 },
 "nbformat": 4,
 "nbformat_minor": 5
}
